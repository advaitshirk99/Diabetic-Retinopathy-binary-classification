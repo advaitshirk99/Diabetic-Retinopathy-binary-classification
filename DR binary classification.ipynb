{
 "cells": [
  {
   "cell_type": "markdown",
   "metadata": {},
   "source": [
    "### Importing Libraries"
   ]
  },
  {
   "cell_type": "code",
   "execution_count": 1,
   "metadata": {},
   "outputs": [
    {
     "name": "stdout",
     "output_type": "stream",
     "text": [
      "2.2.0\n"
     ]
    }
   ],
   "source": [
    "import tensorflow as tf\n",
    "from tensorflow import keras\n",
    "from tensorflow.keras.models import Sequential\n",
    "from tensorflow.keras.layers import Dense, Conv2D, MaxPooling2D, Flatten\n",
    "import numpy as np\n",
    "import matplotlib.pyplot as plt\n",
    "import pandas as pd\n",
    "import cv2\n",
    "print(tf.__version__)"
   ]
  },
  {
   "cell_type": "markdown",
   "metadata": {},
   "source": [
    "### Creating Main dataset"
   ]
  },
  {
   "cell_type": "code",
   "execution_count": 2,
   "metadata": {},
   "outputs": [],
   "source": [
    "#Read the train.csv file from the right location\n",
    "training_data = pd.read_csv(\"training_labels.csv\")\n",
    "#Appending the file extension to the image names\n",
    "training_imgs = [\"{}.jpg\".format(x) for x in list(training_data.Image_name)]\n",
    "\n",
    "#Creating a new dataframe with updated images names\n",
    "training_labels_1 = list(training_data['Retinopathy_grade'])\n",
    "training_data = pd.DataFrame( {'Images': training_imgs,'Retinopathy_grade': training_labels_1})\n"
   ]
  },
  {
   "cell_type": "markdown",
   "metadata": {},
   "source": [
    "Creating seperate column for Binary Classification"
   ]
  },
  {
   "cell_type": "code",
   "execution_count": 3,
   "metadata": {},
   "outputs": [],
   "source": [
    "binary_grade=[]"
   ]
  },
  {
   "cell_type": "code",
   "execution_count": 4,
   "metadata": {},
   "outputs": [],
   "source": [
    "for i in range(len(training_data)):\n",
    "    if training_data.Retinopathy_grade[i]>0:\n",
    "        #for DR images\n",
    "        binary_grade.append(1)\n",
    "    else:\n",
    "        #for non-DR images\n",
    "        binary_grade.append(0)"
   ]
  },
  {
   "cell_type": "code",
   "execution_count": 6,
   "metadata": {},
   "outputs": [],
   "source": [
    "se = pd.Series(binary_grade)\n",
    "training_data['binary_grade'] = se.values"
   ]
  },
  {
   "cell_type": "code",
   "execution_count": 5,
   "metadata": {},
   "outputs": [],
   "source": [
    "#Changing the type of categorical variable for datagenerator(from int to str)\n",
    "training_data.Retinopathy_grade = training_data.Retinopathy_grade.astype(str)"
   ]
  },
  {
   "cell_type": "code",
   "execution_count": 7,
   "metadata": {},
   "outputs": [],
   "source": [
    "#Changing the type of categorical variable datagenerator(from int to str)\n",
    "training_data.binary_grade = training_data.binary_grade.astype(str)"
   ]
  },
  {
   "cell_type": "code",
   "execution_count": 8,
   "metadata": {},
   "outputs": [
    {
     "name": "stdout",
     "output_type": "stream",
     "text": [
      "0 0\n"
     ]
    }
   ],
   "source": [
    "#Checking if binary label is correct\n",
    "print(training_data.Retinopathy_grade[137], training_data.binary_grade[137])"
   ]
  },
  {
   "cell_type": "code",
   "execution_count": 9,
   "metadata": {},
   "outputs": [
    {
     "data": {
      "text/plain": [
       "'\"\\nimg=cv2.imread(\\'D:\\\\Personal\\\\Practice\\\\BE project\\\\DR classification\\\\Images\\\\Training Set\\\\IDRiD_001.jpg\\')\\nresized=cv2.resize(img, (600,600))\\nplt.show(plt.imshow(img,cmap=\\'gray\\'))\\nplt.show(plt.imshow(resized,cmap=\\'gray\\'))\\n'"
      ]
     },
     "execution_count": 9,
     "metadata": {},
     "output_type": "execute_result"
    }
   ],
   "source": [
    "\"\"\"\"\n",
    "img=cv2.imread('D:\\Personal\\Practice\\BE project\\DR classification\\Images\\Training Set\\IDRiD_001.jpg')\n",
    "resized=cv2.resize(img, (600,600))\n",
    "plt.show(plt.imshow(img,cmap='gray'))\n",
    "plt.show(plt.imshow(resized,cmap='gray'))\n",
    "\"\"\""
   ]
  },
  {
   "cell_type": "code",
   "execution_count": 9,
   "metadata": {},
   "outputs": [
    {
     "data": {
      "text/html": [
       "<div>\n",
       "<style scoped>\n",
       "    .dataframe tbody tr th:only-of-type {\n",
       "        vertical-align: middle;\n",
       "    }\n",
       "\n",
       "    .dataframe tbody tr th {\n",
       "        vertical-align: top;\n",
       "    }\n",
       "\n",
       "    .dataframe thead th {\n",
       "        text-align: right;\n",
       "    }\n",
       "</style>\n",
       "<table border=\"1\" class=\"dataframe\">\n",
       "  <thead>\n",
       "    <tr style=\"text-align: right;\">\n",
       "      <th></th>\n",
       "      <th>Images</th>\n",
       "      <th>Retinopathy_grade</th>\n",
       "      <th>binary_grade</th>\n",
       "    </tr>\n",
       "  </thead>\n",
       "  <tbody>\n",
       "    <tr>\n",
       "      <th>0</th>\n",
       "      <td>IDRiD_001.jpg</td>\n",
       "      <td>3</td>\n",
       "      <td>1</td>\n",
       "    </tr>\n",
       "    <tr>\n",
       "      <th>1</th>\n",
       "      <td>IDRiD_002.jpg</td>\n",
       "      <td>3</td>\n",
       "      <td>1</td>\n",
       "    </tr>\n",
       "    <tr>\n",
       "      <th>2</th>\n",
       "      <td>IDRiD_003.jpg</td>\n",
       "      <td>2</td>\n",
       "      <td>1</td>\n",
       "    </tr>\n",
       "    <tr>\n",
       "      <th>3</th>\n",
       "      <td>IDRiD_004.jpg</td>\n",
       "      <td>3</td>\n",
       "      <td>1</td>\n",
       "    </tr>\n",
       "    <tr>\n",
       "      <th>4</th>\n",
       "      <td>IDRiD_005.jpg</td>\n",
       "      <td>4</td>\n",
       "      <td>1</td>\n",
       "    </tr>\n",
       "  </tbody>\n",
       "</table>\n",
       "</div>"
      ],
      "text/plain": [
       "          Images Retinopathy_grade binary_grade\n",
       "0  IDRiD_001.jpg                 3            1\n",
       "1  IDRiD_002.jpg                 3            1\n",
       "2  IDRiD_003.jpg                 2            1\n",
       "3  IDRiD_004.jpg                 3            1\n",
       "4  IDRiD_005.jpg                 4            1"
      ]
     },
     "execution_count": 9,
     "metadata": {},
     "output_type": "execute_result"
    }
   ],
   "source": [
    "training_data.head()"
   ]
  },
  {
   "cell_type": "markdown",
   "metadata": {},
   "source": [
    "### Splitting the dataset into train and validation"
   ]
  },
  {
   "cell_type": "code",
   "execution_count": 10,
   "metadata": {},
   "outputs": [],
   "source": [
    "from sklearn.model_selection import train_test_split\n",
    "training_set, validation_set = train_test_split(training_data, random_state = 0, test_size = 0.10)"
   ]
  },
  {
   "cell_type": "code",
   "execution_count": 11,
   "metadata": {},
   "outputs": [],
   "source": [
    "from tensorflow.keras.preprocessing.image import ImageDataGenerator"
   ]
  },
  {
   "cell_type": "code",
   "execution_count": 12,
   "metadata": {},
   "outputs": [],
   "source": [
    "train_dataGen = ImageDataGenerator(rescale = 1./255,\n",
    "                                      shear_range = 0.2,\n",
    "                                      zoom_range = 0.2,\n",
    "                                      horizontal_flip = True)"
   ]
  },
  {
   "cell_type": "code",
   "execution_count": 13,
   "metadata": {},
   "outputs": [],
   "source": [
    "validation_datagen = ImageDataGenerator(rescale=1./255)"
   ]
  },
  {
   "cell_type": "code",
   "execution_count": 14,
   "metadata": {},
   "outputs": [],
   "source": [
    "TARGET_SIZE=(600,600)"
   ]
  },
  {
   "cell_type": "code",
   "execution_count": 25,
   "metadata": {},
   "outputs": [
    {
     "name": "stdout",
     "output_type": "stream",
     "text": [
      "Found 371 validated image filenames belonging to 2 classes.\n"
     ]
    }
   ],
   "source": [
    "train_generator = train_dataGen.flow_from_dataframe(dataframe = training_set, directory=\"BE project/DR classification/Images/Training Set/\",x_col=\"Images\", y_col=\"binary_grade\", class_mode=\"binary\", target_size=TARGET_SIZE, batch_size=4)"
   ]
  },
  {
   "cell_type": "code",
   "execution_count": 26,
   "metadata": {},
   "outputs": [
    {
     "name": "stdout",
     "output_type": "stream",
     "text": [
      "Found 42 validated image filenames belonging to 2 classes.\n"
     ]
    }
   ],
   "source": [
    "validation_generator = validation_datagen.flow_from_dataframe(dataframe= validation_set, directory=\"BE project/DR classification/Images/Training Set/\", x_col=\"Images\", y_col=\"binary_grade\", class_mode=\"binary\", target_size=TARGET_SIZE, batch_size=4)"
   ]
  },
  {
   "cell_type": "code",
   "execution_count": 17,
   "metadata": {},
   "outputs": [],
   "source": [
    "IMG_SHAPE = (600, 600, 3)"
   ]
  },
  {
   "cell_type": "code",
   "execution_count": 18,
   "metadata": {},
   "outputs": [],
   "source": [
    "#Create the base model from the pre-trained model EfficientNetB7 \n",
    "import efficientnet.tfkeras as efc\n",
    "base_model = efc.EfficientNetB7(input_shape=IMG_SHAPE,\n",
    "                include_top=False,\n",
    "                weights='imagenet')"
   ]
  },
  {
   "cell_type": "code",
   "execution_count": 19,
   "metadata": {},
   "outputs": [],
   "source": [
    "base_model.trainable = False"
   ]
  },
  {
   "cell_type": "code",
   "execution_count": 27,
   "metadata": {},
   "outputs": [],
   "source": [
    "model = tf.keras.Sequential([\n",
    "                          base_model,\n",
    "                          keras.layers.GlobalAveragePooling2D(),\n",
    "                          keras.layers.Dense(1, activation='sigmoid')])"
   ]
  },
  {
   "cell_type": "code",
   "execution_count": 36,
   "metadata": {},
   "outputs": [],
   "source": [
    "#Optimizer Adam>SGD(not completely tested)>RMSprop\n",
    "model.compile(optimizer=tf.keras.optimizers.Adam(lr=0.001),\n",
    "              loss='binary_crossentropy',\n",
    "              metrics=['binary_accuracy'])"
   ]
  },
  {
   "cell_type": "code",
   "execution_count": 37,
   "metadata": {},
   "outputs": [],
   "source": [
    "epochs = 40\n",
    "steps_per_epoch = 70\n",
    "validation_steps = 70"
   ]
  },
  {
   "cell_type": "code",
   "execution_count": 38,
   "metadata": {},
   "outputs": [
    {
     "name": "stdout",
     "output_type": "stream",
     "text": [
      "Epoch 1/40\n",
      "70/70 [==============================] - 104s 1s/step - loss: 0.5558 - binary_accuracy: 0.7061 - val_loss: 0.5472 - val_binary_accuracy: 0.7313\n",
      "Epoch 2/40\n",
      "70/70 [==============================] - 98s 1s/step - loss: 0.4800 - binary_accuracy: 0.7464 - val_loss: 0.5401 - val_binary_accuracy: 0.6381\n",
      "Epoch 3/40\n",
      "70/70 [==============================] - 95s 1s/step - loss: 0.4657 - binary_accuracy: 0.7563 - val_loss: 0.5058 - val_binary_accuracy: 0.7201\n",
      "Epoch 4/40\n",
      "70/70 [==============================] - 98s 1s/step - loss: 0.4417 - binary_accuracy: 0.7599 - val_loss: 0.4686 - val_binary_accuracy: 0.7910\n",
      "Epoch 5/40\n",
      "70/70 [==============================] - 96s 1s/step - loss: 0.4270 - binary_accuracy: 0.7921 - val_loss: 0.4529 - val_binary_accuracy: 0.7388\n",
      "Epoch 6/40\n",
      "70/70 [==============================] - 99s 1s/step - loss: 0.3996 - binary_accuracy: 0.8143 - val_loss: 0.4362 - val_binary_accuracy: 0.7612\n",
      "Epoch 7/40\n",
      "70/70 [==============================] - 101s 1s/step - loss: 0.4007 - binary_accuracy: 0.8107 - val_loss: 0.4358 - val_binary_accuracy: 0.7649\n",
      "Epoch 8/40\n",
      "70/70 [==============================] - 99s 1s/step - loss: 0.4229 - binary_accuracy: 0.8000 - val_loss: 0.4330 - val_binary_accuracy: 0.7873\n",
      "Epoch 9/40\n",
      "70/70 [==============================] - 101s 1s/step - loss: 0.3891 - binary_accuracy: 0.8244 - val_loss: 0.4314 - val_binary_accuracy: 0.8321\n",
      "Epoch 10/40\n",
      "70/70 [==============================] - 99s 1s/step - loss: 0.3955 - binary_accuracy: 0.8136 - val_loss: 0.4093 - val_binary_accuracy: 0.7575\n",
      "Epoch 11/40\n",
      "70/70 [==============================] - 100s 1s/step - loss: 0.3814 - binary_accuracy: 0.8244 - val_loss: 0.4055 - val_binary_accuracy: 0.7873\n",
      "Epoch 12/40\n",
      "70/70 [==============================] - 97s 1s/step - loss: 0.3744 - binary_accuracy: 0.8172 - val_loss: 0.4334 - val_binary_accuracy: 0.8134\n",
      "Epoch 13/40\n",
      "70/70 [==============================] - 96s 1s/step - loss: 0.3368 - binary_accuracy: 0.8351 - val_loss: 0.4179 - val_binary_accuracy: 0.7836\n",
      "Epoch 14/40\n",
      "70/70 [==============================] - 98s 1s/step - loss: 0.3882 - binary_accuracy: 0.8100 - val_loss: 0.4294 - val_binary_accuracy: 0.7687\n",
      "Epoch 15/40\n",
      "70/70 [==============================] - 103s 1s/step - loss: 0.3338 - binary_accuracy: 0.8244 - val_loss: 0.3839 - val_binary_accuracy: 0.8284\n",
      "Epoch 16/40\n",
      "70/70 [==============================] - 96s 1s/step - loss: 0.3816 - binary_accuracy: 0.7993 - val_loss: 0.3999 - val_binary_accuracy: 0.7612\n",
      "Epoch 17/40\n",
      "70/70 [==============================] - 95s 1s/step - loss: 0.3521 - binary_accuracy: 0.8464 - val_loss: 0.3744 - val_binary_accuracy: 0.8172\n",
      "Epoch 18/40\n",
      "70/70 [==============================] - 97s 1s/step - loss: 0.3250 - binary_accuracy: 0.8530 - val_loss: 0.3598 - val_binary_accuracy: 0.8134\n",
      "Epoch 19/40\n",
      "70/70 [==============================] - 97s 1s/step - loss: 0.3428 - binary_accuracy: 0.8393 - val_loss: 0.3673 - val_binary_accuracy: 0.8545\n",
      "Epoch 20/40\n",
      "70/70 [==============================] - 98s 1s/step - loss: 0.3309 - binary_accuracy: 0.8357 - val_loss: 0.3689 - val_binary_accuracy: 0.8022\n",
      "Epoch 21/40\n",
      "70/70 [==============================] - 100s 1s/step - loss: 0.3647 - binary_accuracy: 0.8280 - val_loss: 0.3953 - val_binary_accuracy: 0.7873\n",
      "Epoch 22/40\n",
      "70/70 [==============================] - 98s 1s/step - loss: 0.3286 - binary_accuracy: 0.8530 - val_loss: 0.4023 - val_binary_accuracy: 0.7799\n",
      "Epoch 23/40\n",
      "70/70 [==============================] - 99s 1s/step - loss: 0.3464 - binary_accuracy: 0.8566 - val_loss: 0.3382 - val_binary_accuracy: 0.8321\n",
      "Epoch 24/40\n",
      "70/70 [==============================] - 96s 1s/step - loss: 0.3598 - binary_accuracy: 0.8423 - val_loss: 0.3647 - val_binary_accuracy: 0.7910\n",
      "Epoch 25/40\n",
      "70/70 [==============================] - 95s 1s/step - loss: 0.3014 - binary_accuracy: 0.8638 - val_loss: 0.3275 - val_binary_accuracy: 0.8619\n",
      "Epoch 26/40\n",
      "70/70 [==============================] - 98s 1s/step - loss: 0.3773 - binary_accuracy: 0.8387 - val_loss: 0.3330 - val_binary_accuracy: 0.8358\n",
      "Epoch 27/40\n",
      "70/70 [==============================] - 100s 1s/step - loss: 0.3524 - binary_accuracy: 0.8351 - val_loss: 0.3574 - val_binary_accuracy: 0.8134\n",
      "Epoch 28/40\n",
      "70/70 [==============================] - 100s 1s/step - loss: 0.3372 - binary_accuracy: 0.8387 - val_loss: 0.3458 - val_binary_accuracy: 0.8507\n",
      "Epoch 29/40\n",
      "70/70 [==============================] - 99s 1s/step - loss: 0.3452 - binary_accuracy: 0.8500 - val_loss: 0.3436 - val_binary_accuracy: 0.8134\n",
      "Epoch 30/40\n",
      "70/70 [==============================] - 99s 1s/step - loss: 0.3045 - binary_accuracy: 0.8530 - val_loss: 0.3963 - val_binary_accuracy: 0.8060\n",
      "Epoch 31/40\n",
      "70/70 [==============================] - 97s 1s/step - loss: 0.3718 - binary_accuracy: 0.8387 - val_loss: 0.3342 - val_binary_accuracy: 0.8097\n",
      "Epoch 32/40\n",
      "70/70 [==============================] - 101s 1s/step - loss: 0.3513 - binary_accuracy: 0.8530 - val_loss: 0.3719 - val_binary_accuracy: 0.8060\n",
      "Epoch 33/40\n",
      "70/70 [==============================] - 97s 1s/step - loss: 0.3241 - binary_accuracy: 0.8602 - val_loss: 0.3352 - val_binary_accuracy: 0.8545\n",
      "Epoch 34/40\n",
      "70/70 [==============================] - 99s 1s/step - loss: 0.3519 - binary_accuracy: 0.8423 - val_loss: 0.4039 - val_binary_accuracy: 0.7575\n",
      "Epoch 35/40\n",
      "70/70 [==============================] - 99s 1s/step - loss: 0.3259 - binary_accuracy: 0.8495 - val_loss: 0.3369 - val_binary_accuracy: 0.8545\n",
      "Epoch 36/40\n",
      "70/70 [==============================] - 97s 1s/step - loss: 0.2841 - binary_accuracy: 0.8817 - val_loss: 0.3438 - val_binary_accuracy: 0.8134\n",
      "Epoch 37/40\n",
      "70/70 [==============================] - 102s 1s/step - loss: 0.3508 - binary_accuracy: 0.8500 - val_loss: 0.4175 - val_binary_accuracy: 0.7388\n",
      "Epoch 38/40\n",
      "70/70 [==============================] - 101s 1s/step - loss: 0.3209 - binary_accuracy: 0.8351 - val_loss: 0.3555 - val_binary_accuracy: 0.8396\n",
      "Epoch 39/40\n",
      "70/70 [==============================] - 107s 2s/step - loss: 0.3162 - binary_accuracy: 0.8674 - val_loss: 0.3363 - val_binary_accuracy: 0.8358\n",
      "Epoch 40/40\n",
      "70/70 [==============================] - 97s 1s/step - loss: 0.3510 - binary_accuracy: 0.8321 - val_loss: 0.3897 - val_binary_accuracy: 0.8097\n"
     ]
    }
   ],
   "source": [
    "#can use model.fit as well\n",
    "history = model.fit_generator(train_generator,\n",
    "                              steps_per_epoch = steps_per_epoch,\n",
    "                              epochs=epochs,\n",
    "                              workers=4,\n",
    "                              validation_data=validation_generator,\n",
    "                              validation_steps=validation_steps)"
   ]
  },
  {
   "cell_type": "code",
   "execution_count": 39,
   "metadata": {},
   "outputs": [],
   "source": [
    "acc = history.history['binary_accuracy']\n",
    "val_acc = history.history['val_binary_accuracy']"
   ]
  },
  {
   "cell_type": "code",
   "execution_count": 40,
   "metadata": {},
   "outputs": [],
   "source": [
    "loss = history.history['loss']\n",
    "val_loss = history.history['val_loss']"
   ]
  },
  {
   "cell_type": "markdown",
   "metadata": {},
   "source": [
    "### Plotting Accuracy and Loss"
   ]
  },
  {
   "cell_type": "code",
   "execution_count": 28,
   "metadata": {},
   "outputs": [
    {
     "data": {
      "text/plain": [
       "Text(0.5, 1.0, 'Training and Validation Accuracy')"
      ]
     },
     "execution_count": 28,
     "metadata": {},
     "output_type": "execute_result"
    },
    {
     "data": {
      "image/png": "[encoded data removed]",
      "text/plain": [
       "<Figure size 576x576 with 1 Axes>"
      ]
     },
     "metadata": {
      "needs_background": "light"
     },
     "output_type": "display_data"
    }
   ],
   "source": [
    "#Training Set\n",
    "plt.figure(figsize=(8, 8))\n",
    "plt.subplot(2, 1, 1)\n",
    "plt.plot(acc, label='Training Accuracy')\n",
    "plt.plot(val_acc, label='Validation Accuracy')\n",
    "plt.legend(loc='lower right')\n",
    "plt.ylabel('Accuracy')\n",
    "plt.ylim([min(plt.ylim()),1])\n",
    "plt.title('Training and Validation Accuracy')"
   ]
  },
  {
   "cell_type": "code",
   "execution_count": 29,
   "metadata": {},
   "outputs": [
    {
     "data": {
      "image/png": "[encoded data removed]",
      "text/plain": [
       "<Figure size 432x288 with 1 Axes>"
      ]
     },
     "metadata": {
      "needs_background": "light"
     },
     "output_type": "display_data"
    }
   ],
   "source": [
    "#Validation Set\n",
    "plt.subplot(2, 1, 2)\n",
    "plt.plot(loss, label='Training Loss')\n",
    "plt.plot(val_loss, label='Validation Loss')\n",
    "plt.legend(loc='upper right')\n",
    "plt.ylabel('Cross Entropy')\n",
    "plt.ylim([0,max(plt.ylim())])\n",
    "plt.title('Training and Validation Loss')\n",
    "plt.show()"
   ]
  },
  {
   "cell_type": "code",
   "execution_count": 41,
   "metadata": {},
   "outputs": [
    {
     "name": "stdout",
     "output_type": "stream",
     "text": [
      "WARNING:tensorflow:From C:\\Users\\adshi\\AppData\\Local\\Programs\\Python\\Python38\\lib\\site-packages\\tensorflow\\python\\ops\\resource_variable_ops.py:1813: calling BaseResourceVariable.__init__ (from tensorflow.python.ops.resource_variable_ops) with constraint is deprecated and will be removed in a future version.\n",
      "Instructions for updating:\n",
      "If using Keras pass *_constraint arguments to layers.\n",
      "INFO:tensorflow:Assets written to: D:\\Personal\\Practice\\BE project\\assets\n"
     ]
    }
   ],
   "source": [
    "#saving model\n",
    "model.save('D:\\\\Personal\\\\Practice\\\\BE project')"
   ]
  },
  {
   "cell_type": "code",
   "execution_count": null,
   "metadata": {},
   "outputs": [],
   "source": [
    "#loading weights and biases of pretrained model\n",
    "from tensorflow import keras\n",
    "model = keras.models.load_model('D:\\\\Personal\\\\Practice\\\\BE project')"
   ]
  },
  {
   "cell_type": "code",
   "execution_count": 42,
   "metadata": {},
   "outputs": [],
   "source": [
    "#Function to scale and resize test image\n",
    "def predict_image(image):\n",
    "    scaled_image=image.astype('float32')\n",
    "    scaled_image /= 255 \n",
    "    #Resizing the image\n",
    "    resized_image = cv2.resize(scaled_image, (600,600))\n",
    "    \"\"\"\n",
    "    #Normalization for each pixel\n",
    "    print('The prediction-ready image:')\n",
    "    plt.show(plt.imshow(resized_image, cmap='gray'))\n",
    "    \"\"\"\n",
    "    #predicting the digit\n",
    "    prediction = model.predict(resized_image.reshape(1,resized_image.shape[0],resized_image.shape[1],3))\n",
    "    if prediction[0][0]>0.5:\n",
    "        return 1\n",
    "    else:\n",
    "        return 0"
   ]
  },
  {
   "cell_type": "code",
   "execution_count": 87,
   "metadata": {},
   "outputs": [],
   "source": [
    "image=cv2.imread(\"BE project/DR classification/Images/Testing Set/IDRiD_004.jpg\")"
   ]
  },
  {
   "cell_type": "code",
   "execution_count": 88,
   "metadata": {},
   "outputs": [
    {
     "name": "stdout",
     "output_type": "stream",
     "text": [
      "1\n"
     ]
    }
   ],
   "source": [
    "#Testing a single image\n",
    "y=predict_image(image)\n",
    "print(y)"
   ]
  },
  {
   "cell_type": "code",
   "execution_count": 93,
   "metadata": {},
   "outputs": [],
   "source": [
    "import os\n",
    "from keras.preprocessing import image\n",
    "folder_path=\"BE project/DR classification/Images/Testing Set/\""
   ]
  },
  {
   "cell_type": "code",
   "execution_count": 108,
   "metadata": {},
   "outputs": [],
   "source": [
    "predict_list=[]"
   ]
  },
  {
   "cell_type": "code",
   "execution_count": 109,
   "metadata": {},
   "outputs": [],
   "source": [
    "#Testing entire directory\n",
    "for filename in os.listdir(folder_path):\n",
    "    if filename.endswith(\".jpg\"):\n",
    "        data=cv2.imread(\"BE project/DR classification/Images/Testing Set/\"+filename)\n",
    "        y=predict_image(data)\n",
    "        predict_list.append(y)\n",
    "        continue\n",
    "    else:\n",
    "        continue"
   ]
  },
  {
   "cell_type": "code",
   "execution_count": 119,
   "metadata": {},
   "outputs": [],
   "source": [
    "seriess = pd.Series(predict_list)\n",
    "testing_data['prediction'] = seriess.values"
   ]
  },
  {
   "cell_type": "code",
   "execution_count": 120,
   "metadata": {},
   "outputs": [
    {
     "data": {
      "text/html": [
       "<div>\n",
       "<style scoped>\n",
       "    .dataframe tbody tr th:only-of-type {\n",
       "        vertical-align: middle;\n",
       "    }\n",
       "\n",
       "    .dataframe tbody tr th {\n",
       "        vertical-align: top;\n",
       "    }\n",
       "\n",
       "    .dataframe thead th {\n",
       "        text-align: right;\n",
       "    }\n",
       "</style>\n",
       "<table border=\"1\" class=\"dataframe\">\n",
       "  <thead>\n",
       "    <tr style=\"text-align: right;\">\n",
       "      <th></th>\n",
       "      <th>Images</th>\n",
       "      <th>Retinopathy_grade</th>\n",
       "      <th>test_grade</th>\n",
       "      <th>prediction</th>\n",
       "    </tr>\n",
       "  </thead>\n",
       "  <tbody>\n",
       "    <tr>\n",
       "      <th>0</th>\n",
       "      <td>IDRiD_001.jpg</td>\n",
       "      <td>4</td>\n",
       "      <td>1</td>\n",
       "      <td>1</td>\n",
       "    </tr>\n",
       "    <tr>\n",
       "      <th>1</th>\n",
       "      <td>IDRiD_002.jpg</td>\n",
       "      <td>4</td>\n",
       "      <td>1</td>\n",
       "      <td>1</td>\n",
       "    </tr>\n",
       "    <tr>\n",
       "      <th>2</th>\n",
       "      <td>IDRiD_003.jpg</td>\n",
       "      <td>4</td>\n",
       "      <td>1</td>\n",
       "      <td>1</td>\n",
       "    </tr>\n",
       "    <tr>\n",
       "      <th>3</th>\n",
       "      <td>IDRiD_004.jpg</td>\n",
       "      <td>4</td>\n",
       "      <td>1</td>\n",
       "      <td>1</td>\n",
       "    </tr>\n",
       "    <tr>\n",
       "      <th>4</th>\n",
       "      <td>IDRiD_005.jpg</td>\n",
       "      <td>4</td>\n",
       "      <td>1</td>\n",
       "      <td>1</td>\n",
       "    </tr>\n",
       "    <tr>\n",
       "      <th>...</th>\n",
       "      <td>...</td>\n",
       "      <td>...</td>\n",
       "      <td>...</td>\n",
       "      <td>...</td>\n",
       "    </tr>\n",
       "    <tr>\n",
       "      <th>98</th>\n",
       "      <td>IDRiD_099.jpg</td>\n",
       "      <td>0</td>\n",
       "      <td>0</td>\n",
       "      <td>0</td>\n",
       "    </tr>\n",
       "    <tr>\n",
       "      <th>99</th>\n",
       "      <td>IDRiD_100.jpg</td>\n",
       "      <td>2</td>\n",
       "      <td>1</td>\n",
       "      <td>1</td>\n",
       "    </tr>\n",
       "    <tr>\n",
       "      <th>100</th>\n",
       "      <td>IDRiD_101.jpg</td>\n",
       "      <td>1</td>\n",
       "      <td>1</td>\n",
       "      <td>1</td>\n",
       "    </tr>\n",
       "    <tr>\n",
       "      <th>101</th>\n",
       "      <td>IDRiD_102.jpg</td>\n",
       "      <td>2</td>\n",
       "      <td>1</td>\n",
       "      <td>1</td>\n",
       "    </tr>\n",
       "    <tr>\n",
       "      <th>102</th>\n",
       "      <td>IDRiD_103.jpg</td>\n",
       "      <td>0</td>\n",
       "      <td>0</td>\n",
       "      <td>0</td>\n",
       "    </tr>\n",
       "  </tbody>\n",
       "</table>\n",
       "<p>103 rows × 4 columns</p>\n",
       "</div>"
      ],
      "text/plain": [
       "            Images Retinopathy_grade test_grade  prediction\n",
       "0    IDRiD_001.jpg                 4          1           1\n",
       "1    IDRiD_002.jpg                 4          1           1\n",
       "2    IDRiD_003.jpg                 4          1           1\n",
       "3    IDRiD_004.jpg                 4          1           1\n",
       "4    IDRiD_005.jpg                 4          1           1\n",
       "..             ...               ...        ...         ...\n",
       "98   IDRiD_099.jpg                 0          0           0\n",
       "99   IDRiD_100.jpg                 2          1           1\n",
       "100  IDRiD_101.jpg                 1          1           1\n",
       "101  IDRiD_102.jpg                 2          1           1\n",
       "102  IDRiD_103.jpg                 0          0           0\n",
       "\n",
       "[103 rows x 4 columns]"
      ]
     },
     "execution_count": 120,
     "metadata": {},
     "output_type": "execute_result"
    }
   ],
   "source": [
    "testing_data"
   ]
  },
  {
   "cell_type": "code",
   "execution_count": 127,
   "metadata": {},
   "outputs": [],
   "source": [
    "y_true=testing_data['test_grade']\n",
    "y_pred=testing_data['prediction']"
   ]
  },
  {
   "cell_type": "markdown",
   "metadata": {},
   "source": []
  },
  {
   "cell_type": "code",
   "execution_count": 122,
   "metadata": {},
   "outputs": [],
   "source": [
    "from sklearn.metrics import recall_score, accuracy_score, precision_score,f1_score"
   ]
  },
  {
   "cell_type": "code",
   "execution_count": 125,
   "metadata": {},
   "outputs": [],
   "source": [
    "#Changing the type of categorical variable(from int to str)\n",
    "testing_data.test_grade = testing_data.test_grade.astype(int)\n",
    "testing_data.prediction = testing_data.prediction.astype(int)"
   ]
  },
  {
   "cell_type": "code",
   "execution_count": 129,
   "metadata": {},
   "outputs": [],
   "source": [
    "recall=recall_score(y_true,y_pred)\n",
    "precision=precision_score(y_true,y_pred)\n",
    "accuracy=accuracy_score(y_true,y_pred)\n",
    "f1=f1_score(y_true,y_pred)"
   ]
  },
  {
   "cell_type": "code",
   "execution_count": 130,
   "metadata": {},
   "outputs": [
    {
     "name": "stdout",
     "output_type": "stream",
     "text": [
      "Recall score: 0.8840579710144928 Precision score: 0.7349397590361446 Accuracy score: 0.7087378640776699 F1 score: 0.8026315789473685\n"
     ]
    }
   ],
   "source": [
    "print(\"Recall score:\",recall, \"Precision score:\",precision, \"Accuracy score:\",accuracy, \"F1 score:\",f1)"
   ]
  }
 ],
 "metadata": {
  "kernelspec": {
   "display_name": "GPUEnv",
   "language": "python",
   "name": "gpuenv"
  },
  "language_info": {
   "codemirror_mode": {
    "name": "ipython",
    "version": 3
   },
   "file_extension": ".py",
   "mimetype": "text/x-python",
   "name": "python",
   "nbconvert_exporter": "python",
   "pygments_lexer": "ipython3",
   "version": "3.8.6"
  }
 },
 "nbformat": 4,
 "nbformat_minor": 4
}
